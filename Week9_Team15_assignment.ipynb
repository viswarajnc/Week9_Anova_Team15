{
 "cells": [
  {
   "cell_type": "markdown",
   "id": "7d44fa32",
   "metadata": {},
   "source": [
    "# Q&A Activity Question Week -09"
   ]
  },
  {
   "cell_type": "code",
   "execution_count": null,
   "id": "64f3f77f",
   "metadata": {},
   "outputs": [],
   "source": []
  },
  {
   "cell_type": "markdown",
   "id": "702cc789",
   "metadata": {},
   "source": [
    "# 1. Explain the dataset"
   ]
  },
  {
   "cell_type": "code",
   "execution_count": 44,
   "id": "f30a4aed",
   "metadata": {},
   "outputs": [
    {
     "data": {
      "text/html": [
       "<div>\n",
       "<style scoped>\n",
       "    .dataframe tbody tr th:only-of-type {\n",
       "        vertical-align: middle;\n",
       "    }\n",
       "\n",
       "    .dataframe tbody tr th {\n",
       "        vertical-align: top;\n",
       "    }\n",
       "\n",
       "    .dataframe thead th {\n",
       "        text-align: right;\n",
       "    }\n",
       "</style>\n",
       "<table border=\"1\" class=\"dataframe\">\n",
       "  <thead>\n",
       "    <tr style=\"text-align: right;\">\n",
       "      <th></th>\n",
       "      <th>Unnamed: 0</th>\n",
       "      <th>TV</th>\n",
       "      <th>Radio</th>\n",
       "      <th>Newspaper</th>\n",
       "      <th>Sales</th>\n",
       "    </tr>\n",
       "  </thead>\n",
       "  <tbody>\n",
       "    <tr>\n",
       "      <th>0</th>\n",
       "      <td>1</td>\n",
       "      <td>230.1</td>\n",
       "      <td>37.8</td>\n",
       "      <td>69.2</td>\n",
       "      <td>22.1</td>\n",
       "    </tr>\n",
       "    <tr>\n",
       "      <th>1</th>\n",
       "      <td>2</td>\n",
       "      <td>44.5</td>\n",
       "      <td>39.3</td>\n",
       "      <td>45.1</td>\n",
       "      <td>10.4</td>\n",
       "    </tr>\n",
       "    <tr>\n",
       "      <th>2</th>\n",
       "      <td>3</td>\n",
       "      <td>17.2</td>\n",
       "      <td>45.9</td>\n",
       "      <td>69.3</td>\n",
       "      <td>9.3</td>\n",
       "    </tr>\n",
       "    <tr>\n",
       "      <th>3</th>\n",
       "      <td>4</td>\n",
       "      <td>151.5</td>\n",
       "      <td>41.3</td>\n",
       "      <td>58.5</td>\n",
       "      <td>18.5</td>\n",
       "    </tr>\n",
       "    <tr>\n",
       "      <th>4</th>\n",
       "      <td>5</td>\n",
       "      <td>180.8</td>\n",
       "      <td>10.8</td>\n",
       "      <td>58.4</td>\n",
       "      <td>12.9</td>\n",
       "    </tr>\n",
       "  </tbody>\n",
       "</table>\n",
       "</div>"
      ],
      "text/plain": [
       "   Unnamed: 0     TV  Radio  Newspaper  Sales\n",
       "0           1  230.1   37.8       69.2   22.1\n",
       "1           2   44.5   39.3       45.1   10.4\n",
       "2           3   17.2   45.9       69.3    9.3\n",
       "3           4  151.5   41.3       58.5   18.5\n",
       "4           5  180.8   10.8       58.4   12.9"
      ]
     },
     "execution_count": 44,
     "metadata": {},
     "output_type": "execute_result"
    }
   ],
   "source": [
    "#Import the main libraries\n",
    "import pandas as pd\n",
    "import numpy as np\n",
    "import matplotlib.pyplot as plt\n",
    "import seaborn as sns\n",
    "#Read the csv to a variable\n",
    "ad_data=pd.read_csv(\"Advertising.csv\")\n",
    "#Display the variable and see if the data is visible as rows and columns\n",
    "ad_data.head()"
   ]
  },
  {
   "cell_type": "code",
   "execution_count": 5,
   "id": "4d503f95",
   "metadata": {},
   "outputs": [
    {
     "name": "stdout",
     "output_type": "stream",
     "text": [
      "<class 'pandas.core.frame.DataFrame'>\n",
      "RangeIndex: 200 entries, 0 to 199\n",
      "Data columns (total 5 columns):\n",
      " #   Column      Non-Null Count  Dtype  \n",
      "---  ------      --------------  -----  \n",
      " 0   Unnamed: 0  200 non-null    int64  \n",
      " 1   TV          200 non-null    float64\n",
      " 2   Radio       200 non-null    float64\n",
      " 3   Newspaper   200 non-null    float64\n",
      " 4   Sales       200 non-null    float64\n",
      "dtypes: float64(4), int64(1)\n",
      "memory usage: 7.9 KB\n"
     ]
    }
   ],
   "source": [
    "ad_data.info()"
   ]
  },
  {
   "cell_type": "code",
   "execution_count": 12,
   "id": "53a2aa71",
   "metadata": {},
   "outputs": [
    {
     "data": {
      "text/plain": [
       "Index(['Unnamed: 0', 'TV', 'Radio', 'Newspaper', 'Sales'], dtype='object')"
      ]
     },
     "execution_count": 12,
     "metadata": {},
     "output_type": "execute_result"
    }
   ],
   "source": [
    "ad_data.columns"
   ]
  },
  {
   "cell_type": "code",
   "execution_count": 46,
   "id": "18c2a31f",
   "metadata": {},
   "outputs": [],
   "source": [
    "# From the above functions we could notice that there is an unwanted column which is unnamed and we can drop that from\n",
    "# the dataframe\n",
    "ad_data.drop(ad_data.columns[[0]], axis=1, inplace=True)"
   ]
  },
  {
   "cell_type": "code",
   "execution_count": 47,
   "id": "d5b2bcd9",
   "metadata": {},
   "outputs": [
    {
     "data": {
      "text/plain": [
       "Index(['TV', 'Radio', 'Newspaper', 'Sales'], dtype='object')"
      ]
     },
     "execution_count": 47,
     "metadata": {},
     "output_type": "execute_result"
    }
   ],
   "source": [
    "# Check the advertisement data after dropping the unnamed column\n",
    "ad_data.columns"
   ]
  },
  {
   "cell_type": "code",
   "execution_count": 48,
   "id": "fc1d6068",
   "metadata": {},
   "outputs": [
    {
     "data": {
      "text/html": [
       "<div>\n",
       "<style scoped>\n",
       "    .dataframe tbody tr th:only-of-type {\n",
       "        vertical-align: middle;\n",
       "    }\n",
       "\n",
       "    .dataframe tbody tr th {\n",
       "        vertical-align: top;\n",
       "    }\n",
       "\n",
       "    .dataframe thead th {\n",
       "        text-align: right;\n",
       "    }\n",
       "</style>\n",
       "<table border=\"1\" class=\"dataframe\">\n",
       "  <thead>\n",
       "    <tr style=\"text-align: right;\">\n",
       "      <th></th>\n",
       "      <th>TV</th>\n",
       "      <th>Radio</th>\n",
       "      <th>Newspaper</th>\n",
       "      <th>Sales</th>\n",
       "    </tr>\n",
       "  </thead>\n",
       "  <tbody>\n",
       "    <tr>\n",
       "      <th>0</th>\n",
       "      <td>230.1</td>\n",
       "      <td>37.8</td>\n",
       "      <td>69.2</td>\n",
       "      <td>22.1</td>\n",
       "    </tr>\n",
       "    <tr>\n",
       "      <th>1</th>\n",
       "      <td>44.5</td>\n",
       "      <td>39.3</td>\n",
       "      <td>45.1</td>\n",
       "      <td>10.4</td>\n",
       "    </tr>\n",
       "    <tr>\n",
       "      <th>2</th>\n",
       "      <td>17.2</td>\n",
       "      <td>45.9</td>\n",
       "      <td>69.3</td>\n",
       "      <td>9.3</td>\n",
       "    </tr>\n",
       "    <tr>\n",
       "      <th>3</th>\n",
       "      <td>151.5</td>\n",
       "      <td>41.3</td>\n",
       "      <td>58.5</td>\n",
       "      <td>18.5</td>\n",
       "    </tr>\n",
       "    <tr>\n",
       "      <th>4</th>\n",
       "      <td>180.8</td>\n",
       "      <td>10.8</td>\n",
       "      <td>58.4</td>\n",
       "      <td>12.9</td>\n",
       "    </tr>\n",
       "  </tbody>\n",
       "</table>\n",
       "</div>"
      ],
      "text/plain": [
       "      TV  Radio  Newspaper  Sales\n",
       "0  230.1   37.8       69.2   22.1\n",
       "1   44.5   39.3       45.1   10.4\n",
       "2   17.2   45.9       69.3    9.3\n",
       "3  151.5   41.3       58.5   18.5\n",
       "4  180.8   10.8       58.4   12.9"
      ]
     },
     "execution_count": 48,
     "metadata": {},
     "output_type": "execute_result"
    }
   ],
   "source": [
    "ad_data.head()"
   ]
  },
  {
   "cell_type": "code",
   "execution_count": 49,
   "id": "01f0b985",
   "metadata": {},
   "outputs": [
    {
     "name": "stdout",
     "output_type": "stream",
     "text": [
      "<class 'pandas.core.frame.DataFrame'>\n",
      "RangeIndex: 200 entries, 0 to 199\n",
      "Data columns (total 4 columns):\n",
      " #   Column     Non-Null Count  Dtype  \n",
      "---  ------     --------------  -----  \n",
      " 0   TV         200 non-null    float64\n",
      " 1   Radio      200 non-null    float64\n",
      " 2   Newspaper  200 non-null    float64\n",
      " 3   Sales      200 non-null    float64\n",
      "dtypes: float64(4)\n",
      "memory usage: 6.4 KB\n"
     ]
    }
   ],
   "source": [
    "ad_data.info()"
   ]
  },
  {
   "cell_type": "code",
   "execution_count": null,
   "id": "0da85f65",
   "metadata": {},
   "outputs": [],
   "source": [
    "# We could notice that there is a positive correlation between Sales generated and advertisement.\n",
    "# Highest sales is generated through TV followed by Radio and newspaper."
   ]
  },
  {
   "cell_type": "code",
   "execution_count": 31,
   "id": "d56fb069",
   "metadata": {},
   "outputs": [
    {
     "data": {
      "image/png": "[encoded data removed]",
      "text/plain": [
       "<Figure size 1440x1080 with 4 Axes>"
      ]
     },
     "metadata": {
      "needs_background": "light"
     },
     "output_type": "display_data"
    }
   ],
   "source": [
    "# Visualize the data by plotting histograms for each column distribution\n",
    "freqgraph = ad_data.select_dtypes(['float64'])\n",
    "freqgraph.hist(figsize=(20,15),color='brown')\n",
    "plt.show()"
   ]
  },
  {
   "cell_type": "code",
   "execution_count": null,
   "id": "3ce615cc",
   "metadata": {},
   "outputs": [],
   "source": [
    "#Inference - \n",
    "# 1 . The Sales datais having nearto normal distribution. \n",
    "# 2 . The Newspaper ad is having a right skewed distribution"
   ]
  },
  {
   "cell_type": "code",
   "execution_count": 50,
   "id": "cf3bd5aa",
   "metadata": {},
   "outputs": [
    {
     "data": {
      "text/plain": [
       "<AxesSubplot:>"
      ]
     },
     "execution_count": 50,
     "metadata": {},
     "output_type": "execute_result"
    },
    {
     "data": {
      "image/png": "[encoded data removed]",
      "text/plain": [
       "<Figure size 720x360 with 2 Axes>"
      ]
     },
     "metadata": {
      "needs_background": "light"
     },
     "output_type": "display_data"
    }
   ],
   "source": [
    "# Create the heat map between the correlation between each columns in the dataset\n",
    "ad_corr_data = ad_data.corr()\n",
    "plt.subplots(figsize=(10,5))\n",
    "sns.heatmap(ad_corr_data,vmin=.04,vmax=1,annot=True,linewidth=0.2,cmap='rainbow')"
   ]
  },
  {
   "cell_type": "code",
   "execution_count": null,
   "id": "423af7cc",
   "metadata": {},
   "outputs": [],
   "source": [
    "# If we consider sales being influenced by advertising from TV,Radio and newspaper; we could notice that they have a \n",
    "# positive effect.\n",
    "# The highest sales is generated through TV ads followed by Radio & Newspaper"
   ]
  },
  {
   "cell_type": "markdown",
   "id": "e524f981",
   "metadata": {},
   "source": [
    "# 2. Check the summary statistics and discuss the max, min, avg, median,and percentiles."
   ]
  },
  {
   "cell_type": "code",
   "execution_count": 53,
   "id": "44683a0b",
   "metadata": {},
   "outputs": [
    {
     "data": {
      "text/html": [
       "<div>\n",
       "<style scoped>\n",
       "    .dataframe tbody tr th:only-of-type {\n",
       "        vertical-align: middle;\n",
       "    }\n",
       "\n",
       "    .dataframe tbody tr th {\n",
       "        vertical-align: top;\n",
       "    }\n",
       "\n",
       "    .dataframe thead th {\n",
       "        text-align: right;\n",
       "    }\n",
       "</style>\n",
       "<table border=\"1\" class=\"dataframe\">\n",
       "  <thead>\n",
       "    <tr style=\"text-align: right;\">\n",
       "      <th></th>\n",
       "      <th>TV</th>\n",
       "      <th>Radio</th>\n",
       "      <th>Newspaper</th>\n",
       "      <th>Sales</th>\n",
       "    </tr>\n",
       "  </thead>\n",
       "  <tbody>\n",
       "    <tr>\n",
       "      <th>count</th>\n",
       "      <td>200.000000</td>\n",
       "      <td>200.000000</td>\n",
       "      <td>200.000000</td>\n",
       "      <td>200.000000</td>\n",
       "    </tr>\n",
       "    <tr>\n",
       "      <th>mean</th>\n",
       "      <td>147.042500</td>\n",
       "      <td>23.264000</td>\n",
       "      <td>30.554000</td>\n",
       "      <td>14.022500</td>\n",
       "    </tr>\n",
       "    <tr>\n",
       "      <th>std</th>\n",
       "      <td>85.854236</td>\n",
       "      <td>14.846809</td>\n",
       "      <td>21.778621</td>\n",
       "      <td>5.217457</td>\n",
       "    </tr>\n",
       "    <tr>\n",
       "      <th>min</th>\n",
       "      <td>0.700000</td>\n",
       "      <td>0.000000</td>\n",
       "      <td>0.300000</td>\n",
       "      <td>1.600000</td>\n",
       "    </tr>\n",
       "    <tr>\n",
       "      <th>25%</th>\n",
       "      <td>74.375000</td>\n",
       "      <td>9.975000</td>\n",
       "      <td>12.750000</td>\n",
       "      <td>10.375000</td>\n",
       "    </tr>\n",
       "    <tr>\n",
       "      <th>50%</th>\n",
       "      <td>149.750000</td>\n",
       "      <td>22.900000</td>\n",
       "      <td>25.750000</td>\n",
       "      <td>12.900000</td>\n",
       "    </tr>\n",
       "    <tr>\n",
       "      <th>75%</th>\n",
       "      <td>218.825000</td>\n",
       "      <td>36.525000</td>\n",
       "      <td>45.100000</td>\n",
       "      <td>17.400000</td>\n",
       "    </tr>\n",
       "    <tr>\n",
       "      <th>max</th>\n",
       "      <td>296.400000</td>\n",
       "      <td>49.600000</td>\n",
       "      <td>114.000000</td>\n",
       "      <td>27.000000</td>\n",
       "    </tr>\n",
       "  </tbody>\n",
       "</table>\n",
       "</div>"
      ],
      "text/plain": [
       "               TV       Radio   Newspaper       Sales\n",
       "count  200.000000  200.000000  200.000000  200.000000\n",
       "mean   147.042500   23.264000   30.554000   14.022500\n",
       "std     85.854236   14.846809   21.778621    5.217457\n",
       "min      0.700000    0.000000    0.300000    1.600000\n",
       "25%     74.375000    9.975000   12.750000   10.375000\n",
       "50%    149.750000   22.900000   25.750000   12.900000\n",
       "75%    218.825000   36.525000   45.100000   17.400000\n",
       "max    296.400000   49.600000  114.000000   27.000000"
      ]
     },
     "execution_count": 53,
     "metadata": {},
     "output_type": "execute_result"
    }
   ],
   "source": [
    "# Use the describe function and see the mean(avg), max,min & percentiles (25,50 and 75)\n",
    "ad_data.describe()"
   ]
  },
  {
   "cell_type": "code",
   "execution_count": 32,
   "id": "45fd99eb",
   "metadata": {},
   "outputs": [
    {
     "data": {
      "text/plain": [
       "TV           149.75\n",
       "Radio         22.90\n",
       "Newspaper     25.75\n",
       "Sales         12.90\n",
       "dtype: float64"
      ]
     },
     "execution_count": 32,
     "metadata": {},
     "output_type": "execute_result"
    }
   ],
   "source": [
    "# Since median data is not available in describe function, we'll use separate function for median\n",
    "ad_data.median()"
   ]
  },
  {
   "cell_type": "code",
   "execution_count": null,
   "id": "0c501893",
   "metadata": {},
   "outputs": [],
   "source": [
    "#1.  Maximum - Max amount spent on TV as (296.4 )  far exceeds the max spent on Radio (49.6 ) and Newspaper (114.0)\n",
    "#2.  Minimum - Min amount spent on Radio ads was 0 followed by 0.3 for Newspaper & 0.7 fot TV. This means that there was a time \n",
    "#     when the company did not fund for any Radio ads at all.\n",
    "#3.  Average - Average spent on TV (147.04) far exceeds the average spent on Radio (23.26) and newspaper(30.55). These \n",
    "#    modes of advertisements resulted on an average sale of 14.02.\n",
    "#4.  Median - Median data almost matches the mean for TV (149.75 & 147.04 respectively) & Radio (22.90 & 23.26 respectively)\n",
    "#5.  Percentile - Each percentile value (25,50 or 75) is higher for TV compared to Radio and Newspaper. \n",
    "\n"
   ]
  },
  {
   "cell_type": "markdown",
   "id": "f95cf789",
   "metadata": {},
   "source": [
    "# 3. The manager wants to find out whether the same amount was spent for the three advertisements (TV , Radio and Newspaper). Comment on your findings."
   ]
  },
  {
   "cell_type": "code",
   "execution_count": null,
   "id": "5b29a4b5",
   "metadata": {},
   "outputs": [],
   "source": []
  },
  {
   "cell_type": "code",
   "execution_count": null,
   "id": "cb7755e7",
   "metadata": {},
   "outputs": [],
   "source": [
    "# Stating the hypothesis \n",
    "\n",
    "# Null Hypothesis (H0): amount spent for TV, radio and newspaper advertisements are equal\n",
    "\n",
    "# Alternate Hypothesis (H1): amount spent for TV, radio and newspaper are not equal \n",
    "\n",
    "# Significance level is set as α= 0.05"
   ]
  },
  {
   "cell_type": "code",
   "execution_count": 59,
   "id": "3763910a",
   "metadata": {},
   "outputs": [
    {
     "name": "stdout",
     "output_type": "stream",
     "text": [
      "F test statistic value: 358.851\n",
      "p-value for ad data: 0.0\n"
     ]
    }
   ],
   "source": [
    "#Conducting One-way ANOVA Test for finding the correct hypothesis\n",
    "from scipy import stats\n",
    "tv_ad = ad_data['TV']\n",
    "Radio_ad = ad_data['Radio']\n",
    "Newspaper_ad = ad_data['Newspaper']\n",
    "α= 0.05\n",
    "F_value_ad, p_value_ad = stats.f_oneway(tv_ad,Radio_ad,Newspaper_ad)\n",
    "print('F test statistic value:',round(F_value_ad,3))\n",
    "print('p-value for ad data:',round(p_value_ad,3))"
   ]
  },
  {
   "cell_type": "code",
   "execution_count": 61,
   "id": "1006924d",
   "metadata": {},
   "outputs": [
    {
     "name": "stdout",
     "output_type": "stream",
     "text": [
      "Reject null hypothesis which means that the Amount spent for radio,tv and newspaper ads are not equal\n"
     ]
    }
   ],
   "source": [
    "if p_value_ad < α :\n",
    "    print(\"Reject null hypothesis which means that the Amount spent for radio,tv and newspaper ads are not equal\")\n",
    "else:\n",
    "    print(\"Accept null hypothesis which means that the Amount spent for radio,tv and newspaper ads are equal.\")"
   ]
  },
  {
   "cell_type": "code",
   "execution_count": null,
   "id": "688bd43f",
   "metadata": {},
   "outputs": [],
   "source": [
    "# Submitted by Viswaraj Chandran, Aneesh Akramannil, Harikrishnan Bhuvanendran & Rahna Babu "
   ]
  }
 ],
 "metadata": {
  "kernelspec": {
   "display_name": "Python 3",
   "language": "python",
   "name": "python3"
  },
  "language_info": {
   "codemirror_mode": {
    "name": "ipython",
    "version": 3
   },
   "file_extension": ".py",
   "mimetype": "text/x-python",
   "name": "python",
   "nbconvert_exporter": "python",
   "pygments_lexer": "ipython3",
   "version": "3.8.8"
  }
 },
 "nbformat": 4,
 "nbformat_minor": 5
}
